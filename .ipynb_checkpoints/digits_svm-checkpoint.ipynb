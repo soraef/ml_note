{
 "cells": [
  {
   "cell_type": "code",
   "execution_count": 81,
   "metadata": {},
   "outputs": [],
   "source": [
    "%matplotlib inline\n",
    "\n",
    "from sklearn import datasets, svm\n",
    "import numpy as np\n",
    "import matplotlib.pyplot as plt"
   ]
  },
  {
   "cell_type": "code",
   "execution_count": 82,
   "metadata": {},
   "outputs": [],
   "source": [
    "# 手書き数字データセットのロード\n",
    "\n",
    "digits = datasets.load_digits()\n",
    "\n",
    "X = digits.data    #数字のデータ\n",
    "Y = digits.target # 数字のデータに対応する正解ラベル"
   ]
  },
  {
   "cell_type": "code",
   "execution_count": 83,
   "metadata": {},
   "outputs": [
    {
     "name": "stdout",
     "output_type": "stream",
     "text": [
      "Xは(1797, 64)の配列\n",
      "Yは(1797,)の配列\n"
     ]
    }
   ],
   "source": [
    "# データの形を確認してみる\n",
    "\n",
    "print(f\"Xは{X.shape}の配列\")\n",
    "print(f\"Yは{Y.shape}の配列\")\n",
    "\n",
    "# Xには8x8の数字画像のデータが1797個入っている\n",
    "# YにはXが手書き文字の0~9のどの数字かという正解ラベルが入っている"
   ]
  },
  {
   "cell_type": "code",
   "execution_count": 84,
   "metadata": {},
   "outputs": [
    {
     "name": "stdout",
     "output_type": "stream",
     "text": [
      "X[0] = [ 0.  0.  5. 13.  9.  1.  0.  0.  0.  0. 13. 15. 10. 15.  5.  0.  0.  3.\n",
      " 15.  2.  0. 11.  8.  0.  0.  4. 12.  0.  0.  8.  8.  0.  0.  5.  8.  0.\n",
      "  0.  9.  8.  0.  0.  4. 11.  0.  1. 12.  7.  0.  0.  2. 14.  5. 10. 12.\n",
      "  0.  0.  0.  0.  6. 13. 10.  0.  0.  0.]\n",
      "Y[0] = 0\n"
     ]
    },
    {
     "data": {
      "image/png": "[encoded data removed]",
      "text/plain": [
       "<Figure size 432x288 with 1 Axes>"
      ]
     },
     "metadata": {
      "needs_background": "light"
     },
     "output_type": "display_data"
    }
   ],
   "source": [
    "#確認してみる\n",
    "print(f\"X[0] = {X[0]}\")\n",
    "print(f\"Y[0] = {Y[0]}\")\n",
    "\n",
    "# データは8x8だがXは横一列に64個の数値が入っているためreshapeして8x8にしてあげる\n",
    "img      = X[0].reshape((8, 8))\n",
    "answer = Y[0]\n",
    "\n",
    "# 表示用のプログラム\n",
    "plt.imshow(img)\n",
    "plt.gray()"
   ]
  },
  {
   "cell_type": "code",
   "execution_count": 85,
   "metadata": {},
   "outputs": [],
   "source": [
    "from sklearn.model_selection import train_test_split"
   ]
  },
  {
   "cell_type": "code",
   "execution_count": 100,
   "metadata": {},
   "outputs": [
    {
     "name": "stdout",
     "output_type": "stream",
     "text": [
      "X_train: (898, 64)\n",
      "X_test: (899, 64)\n",
      "Y_train: (898,)\n",
      "Y_test: (899,)\n"
     ]
    }
   ],
   "source": [
    "# 手書き数字データXと正解ラベルYをそれぞれテストデータとトレインデータに分ける\n",
    "X_train, X_test, Y_train, Y_test = train_test_split(X, Y, test_size=0.5, shuffle=False)\n",
    "\n",
    "print(f\"X_train: {X_train.shape}\")\n",
    "print(f\"X_test: {X_test.shape}\")\n",
    "\n",
    "print(f\"Y_train: {Y_train.shape}\")\n",
    "print(f\"Y_test: {Y_test.shape}\")"
   ]
  },
  {
   "cell_type": "code",
   "execution_count": 87,
   "metadata": {},
   "outputs": [],
   "source": [
    "# 分類するためのclassifierを定義\n",
    "# classifierを使って分類する\n",
    "classifier = svm.SVC(gamma=0.001)"
   ]
  },
  {
   "cell_type": "code",
   "execution_count": 88,
   "metadata": {},
   "outputs": [
    {
     "data": {
      "text/plain": [
       "SVC(C=1.0, cache_size=200, class_weight=None, coef0=0.0,\n",
       "    decision_function_shape='ovr', degree=3, gamma=0.001, kernel='rbf',\n",
       "    max_iter=-1, probability=False, random_state=None, shrinking=True,\n",
       "    tol=0.001, verbose=False)"
      ]
     },
     "execution_count": 88,
     "metadata": {},
     "output_type": "execute_result"
    }
   ],
   "source": [
    "# classifier.fix()は学習をさせるメソッド\n",
    "# X_trainとそれに対応するY_trainを与えて学習させる\n",
    "classifier.fit(X_train, Y_train)"
   ]
  },
  {
   "cell_type": "code",
   "execution_count": 92,
   "metadata": {},
   "outputs": [
    {
     "name": "stdout",
     "output_type": "stream",
     "text": [
      "predicted: (899,)\n",
      "Y_test: (899,)\n"
     ]
    }
   ],
   "source": [
    "# 学習できたので, predictメソッド予測してみる\n",
    "# X_testには899個の手書き数字データが入っていて,それぞれの手書き数字が0~9のどの値か予測する\n",
    "predicted = classifier.predict(X_test)\n",
    "\n",
    "# predictedには予測したデータがはいっていて, \n",
    "# Y_testには本当の正解データが入っている\n",
    "print(f\"predicted: {predicted.shape}\")\n",
    "print(f\"Y_test: {Y_test.shape}\")"
   ]
  },
  {
   "cell_type": "code",
   "execution_count": 101,
   "metadata": {},
   "outputs": [
    {
     "name": "stdout",
     "output_type": "stream",
     "text": [
      "正解率： 0.97\n"
     ]
    }
   ],
   "source": [
    "from sklearn.metrics import accuracy_score\n",
    "\n",
    "# Y_testとpredictedの値を比べていって正解率を計算する\n",
    "accuracy_train = accuracy_score(Y_test, predicted)\n",
    "print('正解率： %.2f' % accuracy_train)"
   ]
  },
  {
   "cell_type": "code",
   "execution_count": 103,
   "metadata": {},
   "outputs": [
    {
     "name": "stdout",
     "output_type": "stream",
     "text": [
      "この画像は8?\n",
      "正解は8\n"
     ]
    },
    {
     "data": {
      "image/png": "[encoded data removed]",
      "text/plain": [
       "<Figure size 432x288 with 1 Axes>"
      ]
     },
     "metadata": {
      "needs_background": "light"
     },
     "output_type": "display_data"
    }
   ],
   "source": [
    "# X_test[0]をどう評価しているか確かめてみる\n",
    "img = X_test[0].reshape((8, 8))\n",
    "pred = predicted[0]\n",
    "ans = Y_test[0]\n",
    "\n",
    "# 表示用のプログラム\n",
    "plt.imshow(img)\n",
    "plt.gray()\n",
    "\n",
    "print(f\"この画像は{pred}?\")\n",
    "print(f\"正解は{ans}\")"
   ]
  },
  {
   "cell_type": "code",
   "execution_count": 117,
   "metadata": {},
   "outputs": [
    {
     "name": "stdout",
     "output_type": "stream",
     "text": [
      "x: (64,)\n",
      "x: (1, 64)\n",
      "[1]\n"
     ]
    }
   ],
   "source": [
    "# 自分で配列を作って予測してみる\n",
    "# 1のつもり\n",
    "img=[[0, 0, 0, 15, 15, 0, 0, 0],\n",
    "        [0, 0, 0, 0,   15, 0, 0, 0],\n",
    "        [0, 0, 0, 0,   15, 0, 0, 0],\n",
    "        [0, 0, 0, 0,   15, 0, 0, 0],\n",
    "        [0, 0, 0, 0,   15, 0, 0, 0],\n",
    "        [0, 0, 0, 0,   15, 0, 0, 0],\n",
    "        [0, 0, 0, 0,   15, 0, 0, 0],\n",
    "        [0, 0, 0, 15, 15, 15, 0, 0],]\n",
    "\n",
    "x = np.array(img).reshape(64)\n",
    "\n",
    "# classifier.predictに入れる配列は2次元配列(行列)じゃないといけない\n",
    "print(f\"x: {x.shape}\")\n",
    "\n",
    "# xを64次元のベクトルから1x64の行列に変更する\n",
    "x = np.array([x])\n",
    "print(f\"x: {x.shape}\")\n",
    "\n",
    "pred = classifier.predict(x)\n",
    "print(pred)"
   ]
  },
  {
   "cell_type": "code",
   "execution_count": null,
   "metadata": {},
   "outputs": [],
   "source": []
  }
 ],
 "metadata": {
  "kernelspec": {
   "display_name": "Python 3",
   "language": "python",
   "name": "python3"
  },
  "language_info": {
   "codemirror_mode": {
    "name": "ipython",
    "version": 3
   },
   "file_extension": ".py",
   "mimetype": "text/x-python",
   "name": "python",
   "nbconvert_exporter": "python",
   "pygments_lexer": "ipython3",
   "version": "3.7.4"
  }
 },
 "nbformat": 4,
 "nbformat_minor": 2
}
